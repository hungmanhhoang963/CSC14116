{
  "nbformat": 4,
  "nbformat_minor": 0,
  "metadata": {
    "colab": {
      "name": "TrainModelXGBoost.ipynb",
      "provenance": [],
      "collapsed_sections": []
    },
    "kernelspec": {
      "name": "python3",
      "display_name": "Python 3"
    },
    "language_info": {
      "name": "python"
    }
  },
  "cells": [
    {
      "cell_type": "markdown",
      "source": [
        "Training a Machine Learning model (XGBoost)"
      ],
      "metadata": {
        "id": "cmrVHOHqXuas"
      }
    },
    {
      "cell_type": "markdown",
      "source": [
        "Cài đặt thư viện cần thiết"
      ],
      "metadata": {
        "id": "EtD7Ft3DX7dH"
      }
    },
    {
      "cell_type": "code",
      "source": [
        "!pip install -U xgboost"
      ],
      "metadata": {
        "colab": {
          "base_uri": "https://localhost:8080/"
        },
        "id": "b3ykin0rCFxO",
        "outputId": "375976fd-485b-4d17-f651-25e6b416dacf"
      },
      "execution_count": 1,
      "outputs": [
        {
          "output_type": "stream",
          "name": "stdout",
          "text": [
            "Looking in indexes: https://pypi.org/simple, https://us-python.pkg.dev/colab-wheels/public/simple/\n",
            "Requirement already satisfied: xgboost in /usr/local/lib/python3.7/dist-packages (0.90)\n",
            "Collecting xgboost\n",
            "  Downloading xgboost-1.6.1-py3-none-manylinux2014_x86_64.whl (192.9 MB)\n",
            "\u001b[K     |████████████████████████████████| 192.9 MB 50 kB/s \n",
            "\u001b[?25hRequirement already satisfied: scipy in /usr/local/lib/python3.7/dist-packages (from xgboost) (1.4.1)\n",
            "Requirement already satisfied: numpy in /usr/local/lib/python3.7/dist-packages (from xgboost) (1.21.6)\n",
            "Installing collected packages: xgboost\n",
            "  Attempting uninstall: xgboost\n",
            "    Found existing installation: xgboost 0.90\n",
            "    Uninstalling xgboost-0.90:\n",
            "      Successfully uninstalled xgboost-0.90\n",
            "Successfully installed xgboost-1.6.1\n"
          ]
        }
      ]
    },
    {
      "cell_type": "code",
      "source": [
        "!pip install --upgrade xgboost"
      ],
      "metadata": {
        "colab": {
          "base_uri": "https://localhost:8080/"
        },
        "id": "ZYCCxG5XFz20",
        "outputId": "e0fdbbd6-426b-44c2-f1b7-d12f2d5aace2"
      },
      "execution_count": 2,
      "outputs": [
        {
          "output_type": "stream",
          "name": "stdout",
          "text": [
            "Looking in indexes: https://pypi.org/simple, https://us-python.pkg.dev/colab-wheels/public/simple/\n",
            "Requirement already satisfied: xgboost in /usr/local/lib/python3.7/dist-packages (1.6.1)\n",
            "Requirement already satisfied: numpy in /usr/local/lib/python3.7/dist-packages (from xgboost) (1.21.6)\n",
            "Requirement already satisfied: scipy in /usr/local/lib/python3.7/dist-packages (from xgboost) (1.4.1)\n"
          ]
        }
      ]
    },
    {
      "cell_type": "code",
      "execution_count": 7,
      "metadata": {
        "id": "lUyrdKz6BUHd"
      },
      "outputs": [],
      "source": [
        "from matplotlib import pyplot\n",
        "from pandas import read_csv\n",
        "from xgboost import XGBClassifier\n",
        "from sklearn.model_selection import StratifiedKFold\n",
        "from sklearn.model_selection import cross_val_score\n",
        "from sklearn.preprocessing import LabelEncoder\n",
        "import time"
      ]
    },
    {
      "cell_type": "markdown",
      "source": [
        "Tìm hiểu data:\\\n",
        "Input: Đầu vào nhóm sẽ dùng dataset oto trên kaggle https://www.kaggle.com/c/otto-group-product-classification-challenge/data \n",
        "Dataset này bao gồm khoảng 94.000 sản phẩm và 93 input featuresđược chia thành 10 nhóm (ví dụ: thời trang, điện tử, ...). Mục tiêu là xây dựng một model để phân loại một sản phẩm mới vào các nhóm này. Cuộc thi này đã kết thúc vào 05/2015 và người chiến thắng cũng sử dụng XGBoost để tạo model.\n"
      ],
      "metadata": {
        "id": "8gIzvGWSVmxn"
      }
    },
    {
      "cell_type": "markdown",
      "source": [
        "Tìm hiểu về ý nghĩa ứng dụng: \\\n",
        "XGBoost là viết tắt của Extreme Gradient Boosting.\\\n",
        "Đây là thuật toán state-of-the-art nhằm giải quyết bài toán supervised learning cho độ chính xác khá cao bên cạnh mô hình Deep learning.\\\n",
        "Vấn đề với các mô hình thường là dữ liệu lớn quá sẽ ảnh hưởng đến thời gian chạy,tốn nhiều chi phí,...\\\n",
        "XGboost có tốc độ huấn luyện nhanh, có khả năng scale để tính toán song song trên nhiều server, có thể tăng tốc bằng cách sử dụng GPU, nhờ vậy mà Big Data không phải là vấn đề của mô hình này.\n"
      ],
      "metadata": {
        "id": "1IJAD7OBWhE_"
      }
    },
    {
      "cell_type": "markdown",
      "source": [
        "Ứng dụng này cần tăng tốc vì XGBoost là mô hình có thể tính toán song song và tăng tốc sử dụng GPU, nên việc phát triển ứng dụng luôn cần thiết.\\\n",
        "Phát biểu bài toán XGBoost kèm theo file word đính kèm (vì có nhiều công thức)"
      ],
      "metadata": {
        "id": "3d3hyIj7XAwN"
      }
    },
    {
      "cell_type": "code",
      "source": [
        "data = read_csv('/content/sample_data/train.csv')\n",
        "dataset = data.values\n",
        "# split data into X and y\n",
        "X = dataset[:,0:94]\n",
        "y = dataset[:,94]\n",
        "# encode string class values as integers\n",
        "label_encoded_y = LabelEncoder().fit_transform(y)\n",
        "# evaluate the effect of the number of threads\n",
        "results = []\n",
        "num_threads = [1, 2, 3, 4,5,6]\n",
        "for n in num_threads:\n",
        "    t1 = time.perf_counter()\n",
        "    model = XGBClassifier(nthread=n)\n",
        "    model.fit(X, label_encoded_y)\n",
        "    t2 = time.perf_counter()\n",
        "    elapsed = t2 - t1\n",
        "    print(n, elapsed)\n",
        "    results.append(elapsed)\n",
        "# plot results\n",
        "pyplot.plot(num_threads, results)\n",
        "pyplot.ylabel('Speed (seconds)')\n",
        "pyplot.xlabel('Number of Threads')\n",
        "pyplot.title('XGBoost Training Speed vs Number of Threads')\n",
        "pyplot.show()"
      ],
      "metadata": {
        "colab": {
          "base_uri": "https://localhost:8080/",
          "height": 399
        },
        "id": "RAIwHarqEqg_",
        "outputId": "90c099bf-a25f-4884-e137-a6e583f2b8d5"
      },
      "execution_count": 9,
      "outputs": [
        {
          "output_type": "stream",
          "name": "stdout",
          "text": [
            "1 87.47510032599996\n",
            "2 60.64199457799998\n",
            "3 72.10043657299991\n",
            "4 62.33662604400001\n",
            "5 61.59933472399996\n",
            "6 66.55131752300008\n"
          ]
        },
        {
          "output_type": "display_data",
          "data": {
            "text/plain": [
              "<Figure size 432x288 with 1 Axes>"
            ],
            "image/png": "[encoded data removed]"
          },
          "metadata": {
            "needs_background": "light"
          }
        }
      ]
    },
    {
      "cell_type": "markdown",
      "source": [
        "Nhận xét Có thể thấy xu hướng có vẻ giảm của thời gian train model khi số lượng threads tăng lên"
      ],
      "metadata": {
        "id": "IolYPArfM4fS"
      }
    }
  ]
}